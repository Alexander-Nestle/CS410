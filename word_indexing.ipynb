{
 "cells": [
  {
   "cell_type": "code",
   "execution_count": null,
   "metadata": {},
   "outputs": [],
   "source": [
    "!pip install nltk"
   ]
  },
  {
   "cell_type": "code",
   "execution_count": null,
   "metadata": {},
   "outputs": [],
   "source": [
    "import json\n",
    "import nltk\n",
    "from collections import defaultdict\n",
    "from nltk.corpus import stopwords\n",
    "from nltk.tokenize import word_tokenize\n",
    "from nltk.stem.snowball import EnglishStemmer"
   ]
  },
  {
   "cell_type": "code",
   "execution_count": null,
   "metadata": {},
   "outputs": [],
   "source": [
    "class docItem:\n",
    "    '''This defines the structure of one touristic site'''\n",
    "    def __init__(self, key, name, address, review_text):\n",
    "        self.key = key\n",
    "        self.name = name\n",
    "        self.address = address\n",
    "        self.review = review_text"
   ]
  },
  {
   "cell_type": "code",
   "execution_count": null,
   "metadata": {},
   "outputs": [],
   "source": [
    "class reverseIndex:\n",
    "    '''Invert index data structure'''\n",
    "    def __init__(self, tokenizer, stemmer=None, stopwords=None):\n",
    "        self.tokenizer = tokenizer\n",
    "        self.stemmer = stemmer\n",
    "        self.index = defaultdict(list)\n",
    "        self.documents = {}\n",
    "        if not stopwords:\n",
    "            self.stopwords = set()\n",
    "        else:\n",
    "            self.stopwords = set(stopwords)\n",
    "    \n",
    "    '''tokenize the query and run search for each token'''\n",
    "    def search(self, query):        \n",
    "        '''first, process the query string'''\n",
    "        query_words = self.tokenizer(query)\n",
    "        query_word_set = set()\n",
    "        for word in query_words:\n",
    "            word = word.lower()\n",
    "            if word in self.stopwords:\n",
    "                continue\n",
    "            if self.stemmer:\n",
    "                word = self.stemmer.stem(word)\n",
    "            query_word_set.add(word)\n",
    "\n",
    "        '''second, for each unique word,run query'''\n",
    "        doc_key_set = set()\n",
    "        for word in query_word_set:\n",
    "            doc_key_set = doc_key_set.union(set(self.index.get(word)))\n",
    "            \n",
    "        '''retrieve document content and return'''\n",
    "        doc_list = []\n",
    "        for key in doc_key_set:\n",
    "            doc_list.append(self.documents[key])\n",
    "    \n",
    "        return doc_list\n",
    "\n",
    "    '''indexing an document'''\n",
    "    def add(self, document):\n",
    "        '''Retrieve document key and content'''\n",
    "        doc_key = document.key\n",
    "        doc_name = document.name\n",
    "        doc_text = document.review\n",
    "        \n",
    "        for token in self.tokenizer(doc_text):\n",
    "            token = token.lower()\n",
    "            if token in self.stopwords:\n",
    "                continue\n",
    "            \n",
    "            if self.stemmer:\n",
    "                token = self.stemmer.stem(token)\n",
    "            \n",
    "            if doc_key not in self.index[token]:\n",
    "                self.index[token].append(doc_key)\n",
    "            \n",
    "            self.documents[doc_key] = document\n"
   ]
  },
  {
   "cell_type": "code",
   "execution_count": null,
   "metadata": {},
   "outputs": [],
   "source": [
    "'''parse the review documents into docItems'''\n",
    "class jsonParser:    \n",
    "    def __init__(self, filename):\n",
    "        self.filename = filename\n",
    "        self.doc_list = []\n",
    "        self.doc_idx = 0\n",
    "    \n",
    "    def parse(self):\n",
    "        with open(self.filename, 'rb') as f:\n",
    "            self.doc_list = json.load(f)\n",
    "    \n",
    "    def has_more_item(self):\n",
    "        return self.doc_idx < len(self.doc_list)\n",
    "    \n",
    "    def get_next_item(self):\n",
    "        if len(self.doc_list) == 0:\n",
    "            print(\"Error: need to parse before getitem\")\n",
    "            return\n",
    "        if self.doc_idx >= len(self.doc_list):\n",
    "            print(\"Error: index has exceeded maximum item numbers\")\n",
    "            return\n",
    "        item_raw = self.doc_list[self.doc_idx]\n",
    "        item_key = item_raw['place_id']\n",
    "        item_name = item_raw['name']\n",
    "        item_address = item_raw['formatted_address']\n",
    "        item_text = \"\"\n",
    "        for item_rev in item_raw['reviews']:            \n",
    "            if \"language\" in item_rev.keys() and item_rev[\"language\"].lower() != \"en\":\n",
    "                continue\n",
    "            item_text += item_rev[\"text\"]\n",
    "            item_text += \" \"\n",
    "            # I guess we could add some filter here for the \"time\" attribute\n",
    "\n",
    "        self.doc_idx += 1        \n",
    "        return docItem(item_key, item_name, item_address, item_text)   \n",
    "    "
   ]
  },
  {
   "cell_type": "code",
   "execution_count": null,
   "metadata": {},
   "outputs": [],
   "source": [
    "''' Test Step 1, build reverse indexing object'''\n",
    "stop_words = set()\n",
    "try:\n",
    "    stop_words = set(stopwords.words('english'))\n",
    "except:\n",
    "    nltk.download('stopwords')\n",
    "    nltk.download('punkt')\n",
    "    stop_words = set(stopwords.words('english'))\n",
    "\n",
    "revindex = reverseIndex(word_tokenize, \n",
    "    EnglishStemmer(), \n",
    "    stop_words)"
   ]
  },
  {
   "cell_type": "code",
   "execution_count": null,
   "metadata": {},
   "outputs": [],
   "source": [
    "''' Test Step 2, create json parser on top of one json file'''\n",
    "json_parser = jsonParser(\"PlacesResults.json\")\n",
    "json_parser.parse()"
   ]
  },
  {
   "cell_type": "code",
   "execution_count": null,
   "metadata": {},
   "outputs": [],
   "source": [
    "''' Test Step 3, Create reverse indexing for the json file'''\n",
    "while json_parser.has_more_item():\n",
    "    doc_item = json_parser.get_next_item()\n",
    "    if doc_item != None:\n",
    "        revindex.add(doc_item)        "
   ]
  },
  {
   "cell_type": "code",
   "execution_count": null,
   "metadata": {},
   "outputs": [],
   "source": [
    "''' Test Step 4, do sample query'''\n",
    "query_str = \"japanese food delicious\"\n",
    "query_doc_list = revindex.search(query_str)\n",
    "max_shown = 10\n",
    "show_counter = 1\n",
    "for query_doc_item in query_doc_list:\n",
    "    print(\"=\" * 40)\n",
    "    print(\"name: \" + query_doc_item.name)\n",
    "    print(\"address: \" + query_doc_item.address)\n",
    "    print(\"review: \" + query_doc_item.review)\n",
    "    print(\"\")\n",
    "    show_counter += 1\n",
    "    if show_counter > max_shown:\n",
    "        break\n"
   ]
  },
  {
   "cell_type": "code",
   "execution_count": null,
   "metadata": {},
   "outputs": [],
   "source": []
  }
 ],
 "metadata": {
  "kernelspec": {
   "display_name": "Python 3",
   "language": "python",
   "name": "python3"
  },
  "language_info": {
   "codemirror_mode": {
    "name": "ipython",
    "version": 3
   },
   "file_extension": ".py",
   "mimetype": "text/x-python",
   "name": "python",
   "nbconvert_exporter": "python",
   "pygments_lexer": "ipython3",
   "version": "3.7.4"
  }
 },
 "nbformat": 4,
 "nbformat_minor": 2
}
