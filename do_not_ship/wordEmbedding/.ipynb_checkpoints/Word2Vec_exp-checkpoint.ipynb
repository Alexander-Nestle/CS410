{
 "cells": [
  {
   "cell_type": "code",
   "execution_count": 2,
   "metadata": {},
   "outputs": [],
   "source": [
    "# imports needed and set up logging\n",
    "import gzip\n",
    "import gensim \n",
    "import logging\n",
    "\n",
    "logging.basicConfig(format='%(asctime)s : %(levelname)s : %(message)s', level=logging.INFO)\n"
   ]
  },
  {
   "cell_type": "code",
   "execution_count": 8,
   "metadata": {
    "scrolled": true
   },
   "outputs": [
    {
     "name": "stdout",
     "output_type": "stream",
     "text": [
      "b'For bus is good\\r\\n'\n"
     ]
    }
   ],
   "source": [
    "data_file=\"reviews.txt.gz\"\n",
    "\n",
    "with open ('reviews.txt', 'rb') as f:\n",
    "    for i,line in enumerate (f):\n",
    "        print(line)\n",
    "        break"
   ]
  },
  {
   "cell_type": "code",
   "execution_count": 10,
   "metadata": {},
   "outputs": [
    {
     "name": "stderr",
     "output_type": "stream",
     "text": [
      "2019-10-18 11:35:12,962 : INFO : reading file reviews.txt.gz...this may take a while\n",
      "2019-10-18 11:35:12,965 : INFO : read 0 reviews\n",
      "2019-10-18 11:35:13,884 : INFO : read 10000 reviews\n",
      "2019-10-18 11:35:14,744 : INFO : read 20000 reviews\n",
      "2019-10-18 11:35:15,488 : INFO : Done reading data file\n"
     ]
    }
   ],
   "source": [
    "def read_input(input_file):\n",
    "    \"\"\"This method reads the input file which is in gzip format\"\"\"\n",
    "    \n",
    "    logging.info(\"reading file {0}...this may take a while\".format(input_file))\n",
    "    \n",
    "    with gzip.open (input_file, 'rb') as f:\n",
    "        for i, line in enumerate (f): \n",
    "\n",
    "            if (i%10000==0):\n",
    "                logging.info (\"read {0} reviews\".format (i))\n",
    "            # do some pre-processing and return a list of words for each review text\n",
    "            yield gensim.utils.simple_preprocess (line)\n",
    "\n",
    "# read the tokenized reviews into a list\n",
    "# each review item becomes a serries of words\n",
    "# so this becomes a list of lists\n",
    "documents = list (read_input (data_file))\n",
    "logging.info (\"Done reading data file\")"
   ]
  },
  {
   "cell_type": "code",
   "execution_count": 11,
   "metadata": {},
   "outputs": [
    {
     "name": "stderr",
     "output_type": "stream",
     "text": [
      "2019-10-18 11:35:32,322 : WARNING : consider setting layer size to a multiple of 4 for greater performance\n",
      "2019-10-18 11:35:32,323 : INFO : collecting all words and their counts\n",
      "2019-10-18 11:35:32,324 : INFO : PROGRESS: at sentence #0, processed 0 words, keeping 0 word types\n",
      "2019-10-18 11:35:32,472 : INFO : PROGRESS: at sentence #10000, processed 625665 words, keeping 17674 word types\n",
      "2019-10-18 11:35:32,587 : INFO : PROGRESS: at sentence #20000, processed 1224271 words, keeping 23596 word types\n",
      "2019-10-18 11:35:32,697 : INFO : collected 27902 word types from a corpus of 1741281 raw words and 29441 sentences\n",
      "2019-10-18 11:35:32,698 : INFO : Loading a fresh vocabulary\n",
      "2019-10-18 11:35:32,815 : INFO : effective_min_count=2 retains 17168 unique words (61% of original 27902, drops 10734)\n",
      "2019-10-18 11:35:32,816 : INFO : effective_min_count=2 leaves 1730547 word corpus (99% of original 1741281, drops 10734)\n",
      "2019-10-18 11:35:32,883 : INFO : deleting the raw counts dictionary of 27902 items\n",
      "2019-10-18 11:35:32,885 : INFO : sample=0.001 downsamples 51 most-common words\n",
      "2019-10-18 11:35:32,885 : INFO : downsampling leaves estimated 1310378 word corpus (75.7% of prior 1730547)\n",
      "2019-10-18 11:35:32,944 : INFO : estimated required memory for 17168 words and 150 dimensions: 29185600 bytes\n",
      "2019-10-18 11:35:32,944 : INFO : resetting layer weights\n",
      "2019-10-18 11:35:33,187 : INFO : training model with 10 workers on 17168 vocabulary and 150 features, using sg=0 hs=0 sample=0.001 negative=5 window=10\n",
      "2019-10-18 11:35:34,157 : INFO : worker thread finished; awaiting finish of 9 more threads\n",
      "2019-10-18 11:35:34,173 : INFO : worker thread finished; awaiting finish of 8 more threads\n",
      "2019-10-18 11:35:34,177 : INFO : worker thread finished; awaiting finish of 7 more threads\n",
      "2019-10-18 11:35:34,178 : INFO : worker thread finished; awaiting finish of 6 more threads\n",
      "2019-10-18 11:35:34,181 : INFO : worker thread finished; awaiting finish of 5 more threads\n",
      "2019-10-18 11:35:34,195 : INFO : worker thread finished; awaiting finish of 4 more threads\n",
      "2019-10-18 11:35:34,197 : INFO : worker thread finished; awaiting finish of 3 more threads\n",
      "2019-10-18 11:35:34,199 : INFO : EPOCH 1 - PROGRESS: at 98.87% examples, 1294307 words/s, in_qsize 2, out_qsize 1\n",
      "2019-10-18 11:35:34,200 : INFO : worker thread finished; awaiting finish of 2 more threads\n",
      "2019-10-18 11:35:34,201 : INFO : worker thread finished; awaiting finish of 1 more threads\n",
      "2019-10-18 11:35:34,210 : INFO : worker thread finished; awaiting finish of 0 more threads\n",
      "2019-10-18 11:35:34,211 : INFO : EPOCH - 1 : training on 1741281 raw words (1310701 effective words) took 1.0s, 1293837 effective words/s\n",
      "2019-10-18 11:35:35,233 : INFO : EPOCH 2 - PROGRESS: at 90.82% examples, 1183317 words/s, in_qsize 15, out_qsize 1\n",
      "2019-10-18 11:35:35,254 : INFO : worker thread finished; awaiting finish of 9 more threads\n",
      "2019-10-18 11:35:35,274 : INFO : worker thread finished; awaiting finish of 8 more threads\n",
      "2019-10-18 11:35:35,277 : INFO : worker thread finished; awaiting finish of 7 more threads\n",
      "2019-10-18 11:35:35,281 : INFO : worker thread finished; awaiting finish of 6 more threads\n",
      "2019-10-18 11:35:35,283 : INFO : worker thread finished; awaiting finish of 5 more threads\n",
      "2019-10-18 11:35:35,287 : INFO : worker thread finished; awaiting finish of 4 more threads\n",
      "2019-10-18 11:35:35,296 : INFO : worker thread finished; awaiting finish of 3 more threads\n",
      "2019-10-18 11:35:35,299 : INFO : worker thread finished; awaiting finish of 2 more threads\n",
      "2019-10-18 11:35:35,311 : INFO : worker thread finished; awaiting finish of 1 more threads\n",
      "2019-10-18 11:35:35,314 : INFO : worker thread finished; awaiting finish of 0 more threads\n",
      "2019-10-18 11:35:35,316 : INFO : EPOCH - 2 : training on 1741281 raw words (1310274 effective words) took 1.1s, 1197249 effective words/s\n",
      "2019-10-18 11:35:36,328 : INFO : EPOCH 3 - PROGRESS: at 81.95% examples, 1088116 words/s, in_qsize 18, out_qsize 1\n",
      "2019-10-18 11:35:36,451 : INFO : worker thread finished; awaiting finish of 9 more threads\n",
      "2019-10-18 11:35:36,464 : INFO : worker thread finished; awaiting finish of 8 more threads\n",
      "2019-10-18 11:35:36,467 : INFO : worker thread finished; awaiting finish of 7 more threads\n",
      "2019-10-18 11:35:36,468 : INFO : worker thread finished; awaiting finish of 6 more threads\n",
      "2019-10-18 11:35:36,469 : INFO : worker thread finished; awaiting finish of 5 more threads\n",
      "2019-10-18 11:35:36,484 : INFO : worker thread finished; awaiting finish of 4 more threads\n",
      "2019-10-18 11:35:36,487 : INFO : worker thread finished; awaiting finish of 3 more threads\n",
      "2019-10-18 11:35:36,488 : INFO : worker thread finished; awaiting finish of 2 more threads\n",
      "2019-10-18 11:35:36,491 : INFO : worker thread finished; awaiting finish of 1 more threads\n",
      "2019-10-18 11:35:36,497 : INFO : worker thread finished; awaiting finish of 0 more threads\n",
      "2019-10-18 11:35:36,498 : INFO : EPOCH - 3 : training on 1741281 raw words (1309763 effective words) took 1.2s, 1116902 effective words/s\n",
      "2019-10-18 11:35:37,516 : INFO : EPOCH 4 - PROGRESS: at 87.59% examples, 1150514 words/s, in_qsize 19, out_qsize 0\n",
      "2019-10-18 11:35:37,578 : INFO : worker thread finished; awaiting finish of 9 more threads\n",
      "2019-10-18 11:35:37,593 : INFO : worker thread finished; awaiting finish of 8 more threads\n",
      "2019-10-18 11:35:37,595 : INFO : worker thread finished; awaiting finish of 7 more threads\n",
      "2019-10-18 11:35:37,603 : INFO : worker thread finished; awaiting finish of 6 more threads\n",
      "2019-10-18 11:35:37,604 : INFO : worker thread finished; awaiting finish of 5 more threads\n",
      "2019-10-18 11:35:37,605 : INFO : worker thread finished; awaiting finish of 4 more threads\n",
      "2019-10-18 11:35:37,616 : INFO : worker thread finished; awaiting finish of 3 more threads\n",
      "2019-10-18 11:35:37,618 : INFO : worker thread finished; awaiting finish of 2 more threads\n",
      "2019-10-18 11:35:37,623 : INFO : worker thread finished; awaiting finish of 1 more threads\n",
      "2019-10-18 11:35:37,625 : INFO : worker thread finished; awaiting finish of 0 more threads\n",
      "2019-10-18 11:35:37,625 : INFO : EPOCH - 4 : training on 1741281 raw words (1310032 effective words) took 1.1s, 1172114 effective words/s\n",
      "2019-10-18 11:35:38,650 : INFO : EPOCH 5 - PROGRESS: at 83.19% examples, 1093308 words/s, in_qsize 19, out_qsize 0\n",
      "2019-10-18 11:35:38,778 : INFO : worker thread finished; awaiting finish of 9 more threads\n",
      "2019-10-18 11:35:38,790 : INFO : worker thread finished; awaiting finish of 8 more threads\n",
      "2019-10-18 11:35:38,791 : INFO : worker thread finished; awaiting finish of 7 more threads\n",
      "2019-10-18 11:35:38,792 : INFO : worker thread finished; awaiting finish of 6 more threads\n",
      "2019-10-18 11:35:38,804 : INFO : worker thread finished; awaiting finish of 5 more threads\n",
      "2019-10-18 11:35:38,813 : INFO : worker thread finished; awaiting finish of 4 more threads\n",
      "2019-10-18 11:35:38,815 : INFO : worker thread finished; awaiting finish of 3 more threads\n",
      "2019-10-18 11:35:38,819 : INFO : worker thread finished; awaiting finish of 2 more threads\n",
      "2019-10-18 11:35:38,820 : INFO : worker thread finished; awaiting finish of 1 more threads\n",
      "2019-10-18 11:35:38,826 : INFO : worker thread finished; awaiting finish of 0 more threads\n",
      "2019-10-18 11:35:38,827 : INFO : EPOCH - 5 : training on 1741281 raw words (1310341 effective words) took 1.2s, 1101188 effective words/s\n",
      "2019-10-18 11:35:38,828 : INFO : training on a 8706405 raw words (6551111 effective words) took 5.6s, 1161607 effective words/s\n",
      "2019-10-18 11:35:38,830 : WARNING : Effective 'alpha' higher than previous training cycles\n",
      "2019-10-18 11:35:38,832 : INFO : training model with 10 workers on 17168 vocabulary and 150 features, using sg=0 hs=0 sample=0.001 negative=5 window=10\n",
      "2019-10-18 11:35:39,858 : INFO : EPOCH 1 - PROGRESS: at 81.95% examples, 1074929 words/s, in_qsize 19, out_qsize 0\n",
      "2019-10-18 11:35:39,990 : INFO : worker thread finished; awaiting finish of 9 more threads\n",
      "2019-10-18 11:35:39,997 : INFO : worker thread finished; awaiting finish of 8 more threads\n",
      "2019-10-18 11:35:39,999 : INFO : worker thread finished; awaiting finish of 7 more threads\n",
      "2019-10-18 11:35:40,000 : INFO : worker thread finished; awaiting finish of 6 more threads\n",
      "2019-10-18 11:35:40,004 : INFO : worker thread finished; awaiting finish of 5 more threads\n"
     ]
    },
    {
     "name": "stderr",
     "output_type": "stream",
     "text": [
      "2019-10-18 11:35:40,009 : INFO : worker thread finished; awaiting finish of 4 more threads\n",
      "2019-10-18 11:35:40,011 : INFO : worker thread finished; awaiting finish of 3 more threads\n",
      "2019-10-18 11:35:40,015 : INFO : worker thread finished; awaiting finish of 2 more threads\n",
      "2019-10-18 11:35:40,021 : INFO : worker thread finished; awaiting finish of 1 more threads\n",
      "2019-10-18 11:35:40,027 : INFO : worker thread finished; awaiting finish of 0 more threads\n",
      "2019-10-18 11:35:40,028 : INFO : EPOCH - 1 : training on 1741281 raw words (1310673 effective words) took 1.2s, 1104589 effective words/s\n",
      "2019-10-18 11:35:41,046 : INFO : EPOCH 2 - PROGRESS: at 90.15% examples, 1181685 words/s, in_qsize 17, out_qsize 0\n",
      "2019-10-18 11:35:41,088 : INFO : worker thread finished; awaiting finish of 9 more threads\n",
      "2019-10-18 11:35:41,105 : INFO : worker thread finished; awaiting finish of 8 more threads\n",
      "2019-10-18 11:35:41,111 : INFO : worker thread finished; awaiting finish of 7 more threads\n",
      "2019-10-18 11:35:41,113 : INFO : worker thread finished; awaiting finish of 6 more threads\n",
      "2019-10-18 11:35:41,113 : INFO : worker thread finished; awaiting finish of 5 more threads\n",
      "2019-10-18 11:35:41,114 : INFO : worker thread finished; awaiting finish of 4 more threads\n",
      "2019-10-18 11:35:41,117 : INFO : worker thread finished; awaiting finish of 3 more threads\n",
      "2019-10-18 11:35:41,137 : INFO : worker thread finished; awaiting finish of 2 more threads\n",
      "2019-10-18 11:35:41,139 : INFO : worker thread finished; awaiting finish of 1 more threads\n",
      "2019-10-18 11:35:41,141 : INFO : worker thread finished; awaiting finish of 0 more threads\n",
      "2019-10-18 11:35:41,142 : INFO : EPOCH - 2 : training on 1741281 raw words (1311033 effective words) took 1.1s, 1189115 effective words/s\n",
      "2019-10-18 11:35:42,158 : INFO : EPOCH 3 - PROGRESS: at 91.53% examples, 1196718 words/s, in_qsize 14, out_qsize 1\n",
      "2019-10-18 11:35:42,193 : INFO : worker thread finished; awaiting finish of 9 more threads\n",
      "2019-10-18 11:35:42,202 : INFO : worker thread finished; awaiting finish of 8 more threads\n",
      "2019-10-18 11:35:42,204 : INFO : worker thread finished; awaiting finish of 7 more threads\n",
      "2019-10-18 11:35:42,204 : INFO : worker thread finished; awaiting finish of 6 more threads\n",
      "2019-10-18 11:35:42,205 : INFO : worker thread finished; awaiting finish of 5 more threads\n",
      "2019-10-18 11:35:42,210 : INFO : worker thread finished; awaiting finish of 4 more threads\n",
      "2019-10-18 11:35:42,221 : INFO : worker thread finished; awaiting finish of 3 more threads\n",
      "2019-10-18 11:35:42,225 : INFO : worker thread finished; awaiting finish of 2 more threads\n",
      "2019-10-18 11:35:42,229 : INFO : worker thread finished; awaiting finish of 1 more threads\n",
      "2019-10-18 11:35:42,230 : INFO : worker thread finished; awaiting finish of 0 more threads\n",
      "2019-10-18 11:35:42,231 : INFO : EPOCH - 3 : training on 1741281 raw words (1310489 effective words) took 1.1s, 1213447 effective words/s\n",
      "2019-10-18 11:35:43,244 : INFO : EPOCH 4 - PROGRESS: at 94.18% examples, 1232582 words/s, in_qsize 11, out_qsize 0\n",
      "2019-10-18 11:35:43,262 : INFO : worker thread finished; awaiting finish of 9 more threads\n",
      "2019-10-18 11:35:43,266 : INFO : worker thread finished; awaiting finish of 8 more threads\n",
      "2019-10-18 11:35:43,267 : INFO : worker thread finished; awaiting finish of 7 more threads\n",
      "2019-10-18 11:35:43,269 : INFO : worker thread finished; awaiting finish of 6 more threads\n",
      "2019-10-18 11:35:43,270 : INFO : worker thread finished; awaiting finish of 5 more threads\n",
      "2019-10-18 11:35:43,271 : INFO : worker thread finished; awaiting finish of 4 more threads\n",
      "2019-10-18 11:35:43,277 : INFO : worker thread finished; awaiting finish of 3 more threads\n",
      "2019-10-18 11:35:43,291 : INFO : worker thread finished; awaiting finish of 2 more threads\n",
      "2019-10-18 11:35:43,296 : INFO : worker thread finished; awaiting finish of 1 more threads\n",
      "2019-10-18 11:35:43,301 : INFO : worker thread finished; awaiting finish of 0 more threads\n",
      "2019-10-18 11:35:43,302 : INFO : EPOCH - 4 : training on 1741281 raw words (1310041 effective words) took 1.1s, 1235692 effective words/s\n",
      "2019-10-18 11:35:44,322 : INFO : EPOCH 5 - PROGRESS: at 78.79% examples, 1046805 words/s, in_qsize 19, out_qsize 0\n",
      "2019-10-18 11:35:44,519 : INFO : worker thread finished; awaiting finish of 9 more threads\n",
      "2019-10-18 11:35:44,538 : INFO : worker thread finished; awaiting finish of 8 more threads\n",
      "2019-10-18 11:35:44,542 : INFO : worker thread finished; awaiting finish of 7 more threads\n",
      "2019-10-18 11:35:44,543 : INFO : worker thread finished; awaiting finish of 6 more threads\n",
      "2019-10-18 11:35:44,544 : INFO : worker thread finished; awaiting finish of 5 more threads\n",
      "2019-10-18 11:35:44,560 : INFO : worker thread finished; awaiting finish of 4 more threads\n",
      "2019-10-18 11:35:44,572 : INFO : worker thread finished; awaiting finish of 3 more threads\n",
      "2019-10-18 11:35:44,574 : INFO : worker thread finished; awaiting finish of 2 more threads\n",
      "2019-10-18 11:35:44,575 : INFO : worker thread finished; awaiting finish of 1 more threads\n",
      "2019-10-18 11:35:44,578 : INFO : worker thread finished; awaiting finish of 0 more threads\n",
      "2019-10-18 11:35:44,580 : INFO : EPOCH - 5 : training on 1741281 raw words (1310969 effective words) took 1.3s, 1035324 effective words/s\n",
      "2019-10-18 11:35:45,615 : INFO : EPOCH 6 - PROGRESS: at 73.44% examples, 967875 words/s, in_qsize 18, out_qsize 1\n",
      "2019-10-18 11:35:45,879 : INFO : worker thread finished; awaiting finish of 9 more threads\n",
      "2019-10-18 11:35:45,887 : INFO : worker thread finished; awaiting finish of 8 more threads\n",
      "2019-10-18 11:35:45,888 : INFO : worker thread finished; awaiting finish of 7 more threads\n",
      "2019-10-18 11:35:45,892 : INFO : worker thread finished; awaiting finish of 6 more threads\n",
      "2019-10-18 11:35:45,900 : INFO : worker thread finished; awaiting finish of 5 more threads\n",
      "2019-10-18 11:35:45,903 : INFO : worker thread finished; awaiting finish of 4 more threads\n",
      "2019-10-18 11:35:45,907 : INFO : worker thread finished; awaiting finish of 3 more threads\n",
      "2019-10-18 11:35:45,914 : INFO : worker thread finished; awaiting finish of 2 more threads\n",
      "2019-10-18 11:35:45,922 : INFO : worker thread finished; awaiting finish of 1 more threads\n",
      "2019-10-18 11:35:45,926 : INFO : worker thread finished; awaiting finish of 0 more threads\n",
      "2019-10-18 11:35:45,928 : INFO : EPOCH - 6 : training on 1741281 raw words (1310819 effective words) took 1.3s, 983680 effective words/s\n",
      "2019-10-18 11:35:46,955 : INFO : EPOCH 7 - PROGRESS: at 78.69% examples, 1043076 words/s, in_qsize 20, out_qsize 0\n",
      "2019-10-18 11:35:47,097 : INFO : worker thread finished; awaiting finish of 9 more threads\n",
      "2019-10-18 11:35:47,110 : INFO : worker thread finished; awaiting finish of 8 more threads\n",
      "2019-10-18 11:35:47,114 : INFO : worker thread finished; awaiting finish of 7 more threads\n",
      "2019-10-18 11:35:47,117 : INFO : worker thread finished; awaiting finish of 6 more threads\n",
      "2019-10-18 11:35:47,118 : INFO : worker thread finished; awaiting finish of 5 more threads\n",
      "2019-10-18 11:35:47,125 : INFO : worker thread finished; awaiting finish of 4 more threads\n",
      "2019-10-18 11:35:47,138 : INFO : worker thread finished; awaiting finish of 3 more threads\n",
      "2019-10-18 11:35:47,145 : INFO : worker thread finished; awaiting finish of 2 more threads\n",
      "2019-10-18 11:35:47,148 : INFO : worker thread finished; awaiting finish of 1 more threads\n",
      "2019-10-18 11:35:47,153 : INFO : worker thread finished; awaiting finish of 0 more threads\n",
      "2019-10-18 11:35:47,154 : INFO : EPOCH - 7 : training on 1741281 raw words (1310327 effective words) took 1.2s, 1083662 effective words/s\n",
      "2019-10-18 11:35:48,188 : INFO : EPOCH 8 - PROGRESS: at 90.82% examples, 1174704 words/s, in_qsize 13, out_qsize 3\n",
      "2019-10-18 11:35:48,219 : INFO : worker thread finished; awaiting finish of 9 more threads\n",
      "2019-10-18 11:35:48,234 : INFO : worker thread finished; awaiting finish of 8 more threads\n",
      "2019-10-18 11:35:48,240 : INFO : worker thread finished; awaiting finish of 7 more threads\n",
      "2019-10-18 11:35:48,242 : INFO : worker thread finished; awaiting finish of 6 more threads\n",
      "2019-10-18 11:35:48,246 : INFO : worker thread finished; awaiting finish of 5 more threads\n",
      "2019-10-18 11:35:48,253 : INFO : worker thread finished; awaiting finish of 4 more threads\n"
     ]
    },
    {
     "name": "stderr",
     "output_type": "stream",
     "text": [
      "2019-10-18 11:35:48,267 : INFO : worker thread finished; awaiting finish of 3 more threads\n",
      "2019-10-18 11:35:48,270 : INFO : worker thread finished; awaiting finish of 2 more threads\n",
      "2019-10-18 11:35:48,272 : INFO : worker thread finished; awaiting finish of 1 more threads\n",
      "2019-10-18 11:35:48,273 : INFO : worker thread finished; awaiting finish of 0 more threads\n",
      "2019-10-18 11:35:48,273 : INFO : EPOCH - 8 : training on 1741281 raw words (1310365 effective words) took 1.1s, 1187248 effective words/s\n",
      "2019-10-18 11:35:49,287 : INFO : EPOCH 9 - PROGRESS: at 91.53% examples, 1199815 words/s, in_qsize 15, out_qsize 0\n",
      "2019-10-18 11:35:49,311 : INFO : worker thread finished; awaiting finish of 9 more threads\n",
      "2019-10-18 11:35:49,326 : INFO : worker thread finished; awaiting finish of 8 more threads\n",
      "2019-10-18 11:35:49,327 : INFO : worker thread finished; awaiting finish of 7 more threads\n",
      "2019-10-18 11:35:49,328 : INFO : worker thread finished; awaiting finish of 6 more threads\n",
      "2019-10-18 11:35:49,329 : INFO : worker thread finished; awaiting finish of 5 more threads\n",
      "2019-10-18 11:35:49,339 : INFO : worker thread finished; awaiting finish of 4 more threads\n",
      "2019-10-18 11:35:49,344 : INFO : worker thread finished; awaiting finish of 3 more threads\n",
      "2019-10-18 11:35:49,345 : INFO : worker thread finished; awaiting finish of 2 more threads\n",
      "2019-10-18 11:35:49,356 : INFO : worker thread finished; awaiting finish of 1 more threads\n",
      "2019-10-18 11:35:49,357 : INFO : worker thread finished; awaiting finish of 0 more threads\n",
      "2019-10-18 11:35:49,358 : INFO : EPOCH - 9 : training on 1741281 raw words (1310793 effective words) took 1.1s, 1219792 effective words/s\n",
      "2019-10-18 11:35:50,338 : INFO : worker thread finished; awaiting finish of 9 more threads\n",
      "2019-10-18 11:35:50,354 : INFO : worker thread finished; awaiting finish of 8 more threads\n",
      "2019-10-18 11:35:50,356 : INFO : worker thread finished; awaiting finish of 7 more threads\n",
      "2019-10-18 11:35:50,357 : INFO : worker thread finished; awaiting finish of 6 more threads\n",
      "2019-10-18 11:35:50,359 : INFO : worker thread finished; awaiting finish of 5 more threads\n",
      "2019-10-18 11:35:50,360 : INFO : worker thread finished; awaiting finish of 4 more threads\n",
      "2019-10-18 11:35:50,370 : INFO : EPOCH 10 - PROGRESS: at 98.29% examples, 1286170 words/s, in_qsize 3, out_qsize 1\n",
      "2019-10-18 11:35:50,371 : INFO : worker thread finished; awaiting finish of 3 more threads\n",
      "2019-10-18 11:35:50,373 : INFO : worker thread finished; awaiting finish of 2 more threads\n",
      "2019-10-18 11:35:50,381 : INFO : worker thread finished; awaiting finish of 1 more threads\n",
      "2019-10-18 11:35:50,384 : INFO : worker thread finished; awaiting finish of 0 more threads\n",
      "2019-10-18 11:35:50,385 : INFO : EPOCH - 10 : training on 1741281 raw words (1310634 effective words) took 1.0s, 1288676 effective words/s\n",
      "2019-10-18 11:35:50,386 : INFO : training on a 17412810 raw words (13106143 effective words) took 11.6s, 1134441 effective words/s\n"
     ]
    },
    {
     "data": {
      "text/plain": [
       "(13106143, 17412810)"
      ]
     },
     "execution_count": 11,
     "metadata": {},
     "output_type": "execute_result"
    }
   ],
   "source": [
    "model = gensim.models.Word2Vec (documents, size=150, window=10, min_count=2, workers=10)\n",
    "model.train(documents,total_examples=len(documents),epochs=10)"
   ]
  },
  {
   "cell_type": "code",
   "execution_count": 14,
   "metadata": {},
   "outputs": [
    {
     "data": {
      "text/plain": [
       "[('children', 0.6616529226303101),\n",
       " ('kid', 0.6371763944625854),\n",
       " ('fur', 0.5584065914154053),\n",
       " ('dad', 0.5566017031669617),\n",
       " ('babies', 0.5524616241455078),\n",
       " ('son', 0.5387352705001831),\n",
       " ('younger', 0.5365771055221558),\n",
       " ('teenager', 0.514395534992218),\n",
       " ('boys', 0.509743332862854),\n",
       " ('kids', 0.5097034573554993)]"
      ]
     },
     "execution_count": 14,
     "metadata": {},
     "output_type": "execute_result"
    }
   ],
   "source": [
    "w1 = \"child\"\n",
    "model.wv.most_similar (positive=w1)"
   ]
  },
  {
   "cell_type": "code",
   "execution_count": null,
   "metadata": {},
   "outputs": [],
   "source": []
  }
 ],
 "metadata": {
  "kernelspec": {
   "display_name": "Python 3",
   "language": "python",
   "name": "python3"
  },
  "language_info": {
   "codemirror_mode": {
    "name": "ipython",
    "version": 3
   },
   "file_extension": ".py",
   "mimetype": "text/x-python",
   "name": "python",
   "nbconvert_exporter": "python",
   "pygments_lexer": "ipython3",
   "version": "3.7.3"
  }
 },
 "nbformat": 4,
 "nbformat_minor": 2
}
